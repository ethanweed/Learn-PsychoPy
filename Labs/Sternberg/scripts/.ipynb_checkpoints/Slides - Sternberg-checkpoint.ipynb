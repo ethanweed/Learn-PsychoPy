{
 "cells": [
  {
   "cell_type": "markdown",
   "metadata": {
    "slideshow": {
     "slide_type": "slide"
    }
   },
   "source": [
    "# High-Speed Scanning in Human Memory (Sternberg, 1966) "
   ]
  },
  {
   "cell_type": "code",
   "execution_count": 2,
   "metadata": {
    "code_folding": [],
    "slideshow": {
     "slide_type": "slide"
    }
   },
   "outputs": [],
   "source": [
    "import glob\n",
    "import seaborn as sns\n",
    "import pandas as pd\n",
    "import matplotlib.pyplot as plt\n",
    "#%matplotlib inline\n",
    "import numpy as np\n",
    "\n",
    "path = '/Users/ethan/Documents/GitHub/Learn-PsychoPy/Labs/Sternberg/data/'\n",
    "all_files = glob.glob(path + \"/*.csv\")\n",
    "\n",
    "# assemble data from all participants into one dataframe\n",
    "\n",
    "temp = [] # make a list to hold all the individual dataframes\n",
    "\n",
    "for filename in all_files:\n",
    "    df = pd.read_csv(filename, index_col=None, header=0) # read in each dataframe\n",
    "    df = df[df['resp.rt'].notna()] # remove trials with no participant response\n",
    "    temp.append(df) # add each dataframe to the list of dataframes\n",
    "\n",
    "# concatenate all dataframes in to one dataframe\n",
    "# axis = 0: concatenate by adding rows, rather than columns\n",
    "# ignore_index = False: maintain the original trial numbers for each participant\n",
    "df = pd.concat(temp, axis=0, ignore_index=False)\n",
    "\n",
    "\n",
    "\n",
    "\n"
   ]
  },
  {
   "cell_type": "code",
   "execution_count": 3,
   "metadata": {
    "slideshow": {
     "slide_type": "slide"
    }
   },
   "outputs": [
    {
     "data": {
      "text/html": [
       "<div>\n",
       "<style scoped>\n",
       "    .dataframe tbody tr th:only-of-type {\n",
       "        vertical-align: middle;\n",
       "    }\n",
       "\n",
       "    .dataframe tbody tr th {\n",
       "        vertical-align: top;\n",
       "    }\n",
       "\n",
       "    .dataframe thead th {\n",
       "        text-align: right;\n",
       "    }\n",
       "</style>\n",
       "<table border=\"1\" class=\"dataframe\">\n",
       "  <thead>\n",
       "    <tr style=\"text-align: right;\">\n",
       "      <th></th>\n",
       "      <th>setSize</th>\n",
       "      <th>posInSet</th>\n",
       "      <th>present</th>\n",
       "      <th>numberSet</th>\n",
       "      <th>target</th>\n",
       "      <th>corrAns</th>\n",
       "      <th>pracTrials.thisRepN</th>\n",
       "      <th>pracTrials.thisTrialN</th>\n",
       "      <th>pracTrials.thisN</th>\n",
       "      <th>pracTrials.thisIndex</th>\n",
       "      <th>...</th>\n",
       "      <th>OK2.rt</th>\n",
       "      <th>OK2.started</th>\n",
       "      <th>OK2.stopped</th>\n",
       "      <th>participant</th>\n",
       "      <th>session</th>\n",
       "      <th>date</th>\n",
       "      <th>expName</th>\n",
       "      <th>psychopyVersion</th>\n",
       "      <th>frameRate</th>\n",
       "      <th>Unnamed: 45</th>\n",
       "    </tr>\n",
       "  </thead>\n",
       "  <tbody>\n",
       "    <tr>\n",
       "      <th>1</th>\n",
       "      <td>5.0</td>\n",
       "      <td>4</td>\n",
       "      <td>y</td>\n",
       "      <td>1 7 9 8 5</td>\n",
       "      <td>8.0</td>\n",
       "      <td>right</td>\n",
       "      <td>0.0</td>\n",
       "      <td>0.0</td>\n",
       "      <td>0.0</td>\n",
       "      <td>8.0</td>\n",
       "      <td>...</td>\n",
       "      <td>NaN</td>\n",
       "      <td>NaN</td>\n",
       "      <td>NaN</td>\n",
       "      <td>1</td>\n",
       "      <td>2</td>\n",
       "      <td>2020_Apr_07_0856</td>\n",
       "      <td>sternberg</td>\n",
       "      <td>2020.1.2</td>\n",
       "      <td>60.273797</td>\n",
       "      <td>NaN</td>\n",
       "    </tr>\n",
       "    <tr>\n",
       "      <th>2</th>\n",
       "      <td>2.0</td>\n",
       "      <td>--</td>\n",
       "      <td>n</td>\n",
       "      <td>2 1</td>\n",
       "      <td>5.0</td>\n",
       "      <td>left</td>\n",
       "      <td>0.0</td>\n",
       "      <td>1.0</td>\n",
       "      <td>1.0</td>\n",
       "      <td>3.0</td>\n",
       "      <td>...</td>\n",
       "      <td>NaN</td>\n",
       "      <td>NaN</td>\n",
       "      <td>NaN</td>\n",
       "      <td>1</td>\n",
       "      <td>2</td>\n",
       "      <td>2020_Apr_07_0856</td>\n",
       "      <td>sternberg</td>\n",
       "      <td>2020.1.2</td>\n",
       "      <td>60.273797</td>\n",
       "      <td>NaN</td>\n",
       "    </tr>\n",
       "    <tr>\n",
       "      <th>3</th>\n",
       "      <td>2.0</td>\n",
       "      <td>1</td>\n",
       "      <td>y</td>\n",
       "      <td>4 8</td>\n",
       "      <td>4.0</td>\n",
       "      <td>right</td>\n",
       "      <td>0.0</td>\n",
       "      <td>2.0</td>\n",
       "      <td>2.0</td>\n",
       "      <td>2.0</td>\n",
       "      <td>...</td>\n",
       "      <td>NaN</td>\n",
       "      <td>NaN</td>\n",
       "      <td>NaN</td>\n",
       "      <td>1</td>\n",
       "      <td>2</td>\n",
       "      <td>2020_Apr_07_0856</td>\n",
       "      <td>sternberg</td>\n",
       "      <td>2020.1.2</td>\n",
       "      <td>60.273797</td>\n",
       "      <td>NaN</td>\n",
       "    </tr>\n",
       "    <tr>\n",
       "      <th>4</th>\n",
       "      <td>5.0</td>\n",
       "      <td>--</td>\n",
       "      <td>n</td>\n",
       "      <td>9 6 7 4 5</td>\n",
       "      <td>3.0</td>\n",
       "      <td>left</td>\n",
       "      <td>0.0</td>\n",
       "      <td>3.0</td>\n",
       "      <td>3.0</td>\n",
       "      <td>9.0</td>\n",
       "      <td>...</td>\n",
       "      <td>NaN</td>\n",
       "      <td>NaN</td>\n",
       "      <td>NaN</td>\n",
       "      <td>1</td>\n",
       "      <td>2</td>\n",
       "      <td>2020_Apr_07_0856</td>\n",
       "      <td>sternberg</td>\n",
       "      <td>2020.1.2</td>\n",
       "      <td>60.273797</td>\n",
       "      <td>NaN</td>\n",
       "    </tr>\n",
       "    <tr>\n",
       "      <th>5</th>\n",
       "      <td>4.0</td>\n",
       "      <td>--</td>\n",
       "      <td>n</td>\n",
       "      <td>3 1 9 4</td>\n",
       "      <td>6.0</td>\n",
       "      <td>left</td>\n",
       "      <td>0.0</td>\n",
       "      <td>4.0</td>\n",
       "      <td>4.0</td>\n",
       "      <td>7.0</td>\n",
       "      <td>...</td>\n",
       "      <td>NaN</td>\n",
       "      <td>NaN</td>\n",
       "      <td>NaN</td>\n",
       "      <td>1</td>\n",
       "      <td>2</td>\n",
       "      <td>2020_Apr_07_0856</td>\n",
       "      <td>sternberg</td>\n",
       "      <td>2020.1.2</td>\n",
       "      <td>60.273797</td>\n",
       "      <td>NaN</td>\n",
       "    </tr>\n",
       "    <tr>\n",
       "      <th>...</th>\n",
       "      <td>...</td>\n",
       "      <td>...</td>\n",
       "      <td>...</td>\n",
       "      <td>...</td>\n",
       "      <td>...</td>\n",
       "      <td>...</td>\n",
       "      <td>...</td>\n",
       "      <td>...</td>\n",
       "      <td>...</td>\n",
       "      <td>...</td>\n",
       "      <td>...</td>\n",
       "      <td>...</td>\n",
       "      <td>...</td>\n",
       "      <td>...</td>\n",
       "      <td>...</td>\n",
       "      <td>...</td>\n",
       "      <td>...</td>\n",
       "      <td>...</td>\n",
       "      <td>...</td>\n",
       "      <td>...</td>\n",
       "      <td>...</td>\n",
       "    </tr>\n",
       "    <tr>\n",
       "      <th>135</th>\n",
       "      <td>6.0</td>\n",
       "      <td>2</td>\n",
       "      <td>y</td>\n",
       "      <td>7 1 8 5 6 2</td>\n",
       "      <td>1.0</td>\n",
       "      <td>right</td>\n",
       "      <td>NaN</td>\n",
       "      <td>NaN</td>\n",
       "      <td>NaN</td>\n",
       "      <td>NaN</td>\n",
       "      <td>...</td>\n",
       "      <td>NaN</td>\n",
       "      <td>NaN</td>\n",
       "      <td>NaN</td>\n",
       "      <td>1</td>\n",
       "      <td>2</td>\n",
       "      <td>2020_Apr_07_0856</td>\n",
       "      <td>sternberg</td>\n",
       "      <td>2020.1.2</td>\n",
       "      <td>60.273797</td>\n",
       "      <td>NaN</td>\n",
       "    </tr>\n",
       "    <tr>\n",
       "      <th>136</th>\n",
       "      <td>6.0</td>\n",
       "      <td>--</td>\n",
       "      <td>n</td>\n",
       "      <td>6 2 9 3 8 4</td>\n",
       "      <td>1.0</td>\n",
       "      <td>left</td>\n",
       "      <td>NaN</td>\n",
       "      <td>NaN</td>\n",
       "      <td>NaN</td>\n",
       "      <td>NaN</td>\n",
       "      <td>...</td>\n",
       "      <td>NaN</td>\n",
       "      <td>NaN</td>\n",
       "      <td>NaN</td>\n",
       "      <td>1</td>\n",
       "      <td>2</td>\n",
       "      <td>2020_Apr_07_0856</td>\n",
       "      <td>sternberg</td>\n",
       "      <td>2020.1.2</td>\n",
       "      <td>60.273797</td>\n",
       "      <td>NaN</td>\n",
       "    </tr>\n",
       "    <tr>\n",
       "      <th>137</th>\n",
       "      <td>3.0</td>\n",
       "      <td>1</td>\n",
       "      <td>y</td>\n",
       "      <td>9 8 4</td>\n",
       "      <td>9.0</td>\n",
       "      <td>right</td>\n",
       "      <td>NaN</td>\n",
       "      <td>NaN</td>\n",
       "      <td>NaN</td>\n",
       "      <td>NaN</td>\n",
       "      <td>...</td>\n",
       "      <td>NaN</td>\n",
       "      <td>NaN</td>\n",
       "      <td>NaN</td>\n",
       "      <td>1</td>\n",
       "      <td>2</td>\n",
       "      <td>2020_Apr_07_0856</td>\n",
       "      <td>sternberg</td>\n",
       "      <td>2020.1.2</td>\n",
       "      <td>60.273797</td>\n",
       "      <td>NaN</td>\n",
       "    </tr>\n",
       "    <tr>\n",
       "      <th>138</th>\n",
       "      <td>6.0</td>\n",
       "      <td>2</td>\n",
       "      <td>y</td>\n",
       "      <td>6 9 7 4 5 1</td>\n",
       "      <td>9.0</td>\n",
       "      <td>right</td>\n",
       "      <td>NaN</td>\n",
       "      <td>NaN</td>\n",
       "      <td>NaN</td>\n",
       "      <td>NaN</td>\n",
       "      <td>...</td>\n",
       "      <td>NaN</td>\n",
       "      <td>NaN</td>\n",
       "      <td>NaN</td>\n",
       "      <td>1</td>\n",
       "      <td>2</td>\n",
       "      <td>2020_Apr_07_0856</td>\n",
       "      <td>sternberg</td>\n",
       "      <td>2020.1.2</td>\n",
       "      <td>60.273797</td>\n",
       "      <td>NaN</td>\n",
       "    </tr>\n",
       "    <tr>\n",
       "      <th>139</th>\n",
       "      <td>5.0</td>\n",
       "      <td>--</td>\n",
       "      <td>n</td>\n",
       "      <td>8 6 3 4 7</td>\n",
       "      <td>1.0</td>\n",
       "      <td>left</td>\n",
       "      <td>NaN</td>\n",
       "      <td>NaN</td>\n",
       "      <td>NaN</td>\n",
       "      <td>NaN</td>\n",
       "      <td>...</td>\n",
       "      <td>NaN</td>\n",
       "      <td>NaN</td>\n",
       "      <td>NaN</td>\n",
       "      <td>1</td>\n",
       "      <td>2</td>\n",
       "      <td>2020_Apr_07_0856</td>\n",
       "      <td>sternberg</td>\n",
       "      <td>2020.1.2</td>\n",
       "      <td>60.273797</td>\n",
       "      <td>NaN</td>\n",
       "    </tr>\n",
       "  </tbody>\n",
       "</table>\n",
       "<p>138 rows × 46 columns</p>\n",
       "</div>"
      ],
      "text/plain": [
       "     setSize posInSet present    numberSet  target corrAns  \\\n",
       "1        5.0        4       y    1 7 9 8 5     8.0   right   \n",
       "2        2.0       --       n          2 1     5.0    left   \n",
       "3        2.0        1       y          4 8     4.0   right   \n",
       "4        5.0       --       n    9 6 7 4 5     3.0    left   \n",
       "5        4.0       --       n      3 1 9 4     6.0    left   \n",
       "..       ...      ...     ...          ...     ...     ...   \n",
       "135      6.0        2       y  7 1 8 5 6 2     1.0   right   \n",
       "136      6.0       --       n  6 2 9 3 8 4     1.0    left   \n",
       "137      3.0        1       y        9 8 4     9.0   right   \n",
       "138      6.0        2       y  6 9 7 4 5 1     9.0   right   \n",
       "139      5.0       --       n    8 6 3 4 7     1.0    left   \n",
       "\n",
       "     pracTrials.thisRepN  pracTrials.thisTrialN  pracTrials.thisN  \\\n",
       "1                    0.0                    0.0               0.0   \n",
       "2                    0.0                    1.0               1.0   \n",
       "3                    0.0                    2.0               2.0   \n",
       "4                    0.0                    3.0               3.0   \n",
       "5                    0.0                    4.0               4.0   \n",
       "..                   ...                    ...               ...   \n",
       "135                  NaN                    NaN               NaN   \n",
       "136                  NaN                    NaN               NaN   \n",
       "137                  NaN                    NaN               NaN   \n",
       "138                  NaN                    NaN               NaN   \n",
       "139                  NaN                    NaN               NaN   \n",
       "\n",
       "     pracTrials.thisIndex  ...  OK2.rt  OK2.started  OK2.stopped  participant  \\\n",
       "1                     8.0  ...     NaN          NaN          NaN            1   \n",
       "2                     3.0  ...     NaN          NaN          NaN            1   \n",
       "3                     2.0  ...     NaN          NaN          NaN            1   \n",
       "4                     9.0  ...     NaN          NaN          NaN            1   \n",
       "5                     7.0  ...     NaN          NaN          NaN            1   \n",
       "..                    ...  ...     ...          ...          ...          ...   \n",
       "135                   NaN  ...     NaN          NaN          NaN            1   \n",
       "136                   NaN  ...     NaN          NaN          NaN            1   \n",
       "137                   NaN  ...     NaN          NaN          NaN            1   \n",
       "138                   NaN  ...     NaN          NaN          NaN            1   \n",
       "139                   NaN  ...     NaN          NaN          NaN            1   \n",
       "\n",
       "     session              date    expName  psychopyVersion  frameRate  \\\n",
       "1          2  2020_Apr_07_0856  sternberg         2020.1.2  60.273797   \n",
       "2          2  2020_Apr_07_0856  sternberg         2020.1.2  60.273797   \n",
       "3          2  2020_Apr_07_0856  sternberg         2020.1.2  60.273797   \n",
       "4          2  2020_Apr_07_0856  sternberg         2020.1.2  60.273797   \n",
       "5          2  2020_Apr_07_0856  sternberg         2020.1.2  60.273797   \n",
       "..       ...               ...        ...              ...        ...   \n",
       "135        2  2020_Apr_07_0856  sternberg         2020.1.2  60.273797   \n",
       "136        2  2020_Apr_07_0856  sternberg         2020.1.2  60.273797   \n",
       "137        2  2020_Apr_07_0856  sternberg         2020.1.2  60.273797   \n",
       "138        2  2020_Apr_07_0856  sternberg         2020.1.2  60.273797   \n",
       "139        2  2020_Apr_07_0856  sternberg         2020.1.2  60.273797   \n",
       "\n",
       "    Unnamed: 45  \n",
       "1           NaN  \n",
       "2           NaN  \n",
       "3           NaN  \n",
       "4           NaN  \n",
       "5           NaN  \n",
       "..          ...  \n",
       "135         NaN  \n",
       "136         NaN  \n",
       "137         NaN  \n",
       "138         NaN  \n",
       "139         NaN  \n",
       "\n",
       "[138 rows x 46 columns]"
      ]
     },
     "execution_count": 3,
     "metadata": {},
     "output_type": "execute_result"
    }
   ],
   "source": [
    "df # inspect the concatenated dataframe"
   ]
  },
  {
   "cell_type": "code",
   "execution_count": 4,
   "metadata": {
    "slideshow": {
     "slide_type": "slide"
    }
   },
   "outputs": [
    {
     "data": {
      "text/plain": [
       "<seaborn.axisgrid.FacetGrid at 0x108d92208>"
      ]
     },
     "execution_count": 4,
     "metadata": {},
     "output_type": "execute_result"
    },
    {
     "data": {
      "image/png": "[encoded data removed]",
      "text/plain": [
       "<Figure size 406.125x360 with 1 Axes>"
      ]
     },
     "metadata": {
      "needs_background": "light"
     },
     "output_type": "display_data"
    }
   ],
   "source": [
    "ax = sns.catplot(x = \"setSize\", y = \"resp.rt\", kind = \"box\", hue = \"present\", data = df);\n",
    "ax.set(ylim=(0, 3))"
   ]
  },
  {
   "cell_type": "code",
   "execution_count": 5,
   "metadata": {
    "slideshow": {
     "slide_type": "slide"
    }
   },
   "outputs": [
    {
     "data": {
      "text/plain": [
       "<seaborn.axisgrid.FacetGrid at 0x1a1ce54c18>"
      ]
     },
     "execution_count": 5,
     "metadata": {},
     "output_type": "execute_result"
    },
    {
     "data": {
      "image/png": "[encoded data removed]",
      "text/plain": [
       "<Figure size 406.125x360 with 1 Axes>"
      ]
     },
     "metadata": {
      "needs_background": "light"
     },
     "output_type": "display_data"
    }
   ],
   "source": [
    "ax = sns.lmplot(x = \"setSize\", y = \"resp.rt\", hue = \"present\", data = df);\n",
    "ax.set(ylim=(0, 3))"
   ]
  },
  {
   "cell_type": "code",
   "execution_count": 6,
   "metadata": {
    "slideshow": {
     "slide_type": "slide"
    }
   },
   "outputs": [
    {
     "data": {
      "text/plain": [
       "<seaborn.axisgrid.FacetGrid at 0x1a1c59ce48>"
      ]
     },
     "execution_count": 6,
     "metadata": {},
     "output_type": "execute_result"
    },
    {
     "data": {
      "image/png": "[encoded data removed]",
      "text/plain": [
       "<Figure size 419.625x360 with 1 Axes>"
      ]
     },
     "metadata": {
      "needs_background": "light"
     },
     "output_type": "display_data"
    }
   ],
   "source": [
    "ax = sns.lmplot(x = \"setSize\", y = \"resp.rt\", hue = \"resp.keys\", data = df);\n",
    "ax.set(ylim=(0, 3))"
   ]
  },
  {
   "cell_type": "code",
   "execution_count": 7,
   "metadata": {
    "slideshow": {
     "slide_type": "slide"
    }
   },
   "outputs": [
    {
     "data": {
      "text/plain": [
       "<seaborn.axisgrid.FacetGrid at 0x1a1d073d68>"
      ]
     },
     "execution_count": 7,
     "metadata": {},
     "output_type": "execute_result"
    },
    {
     "data": {
      "image/png": "[encoded data removed]",
      "text/plain": [
       "<Figure size 360x360 with 1 Axes>"
      ]
     },
     "metadata": {
      "needs_background": "light"
     },
     "output_type": "display_data"
    }
   ],
   "source": [
    "is_present =  df['present'] == \"y\"\n",
    "df_is_present = df[is_present]\n",
    "\n",
    "ax = sns.catplot(x = \"posInSet\", y = \"resp.rt\", kind = \"box\", data = df_is_present);\n",
    "ax.set(ylim=(0, 3))"
   ]
  },
  {
   "cell_type": "code",
   "execution_count": null,
   "metadata": {},
   "outputs": [],
   "source": []
  }
 ],
 "metadata": {
  "celltoolbar": "Slideshow",
  "kernelspec": {
   "display_name": "Python 3",
   "language": "python",
   "name": "python3"
  },
  "language_info": {
   "codemirror_mode": {
    "name": "ipython",
    "version": 3
   },
   "file_extension": ".py",
   "mimetype": "text/x-python",
   "name": "python",
   "nbconvert_exporter": "python",
   "pygments_lexer": "ipython3",
   "version": "3.7.3"
  }
 },
 "nbformat": 4,
 "nbformat_minor": 2
}
