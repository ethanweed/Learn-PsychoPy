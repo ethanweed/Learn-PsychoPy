{
 "cells": [
  {
   "cell_type": "markdown",
   "metadata": {},
   "source": [
    "# Pseudohomophones"
   ]
  },
  {
   "cell_type": "code",
   "execution_count": 7,
   "metadata": {},
   "outputs": [
    {
     "name": "stdout",
     "output_type": "stream",
     "text": [
      "preparing data for... /Users/ethan/Documents/GitHub/Learn-PsychoPy/Labs/Pseudohomophones/experiment/data/debug2_pseudohomophones_EW_2020_Apr_10_1101trials.csv\n",
      "preparing data for... /Users/ethan/Documents/GitHub/Learn-PsychoPy/Labs/Pseudohomophones/experiment/data/debug_pseudohomophones_EW_2020_Apr_10_1059trials.csv\n"
     ]
    }
   ],
   "source": [
    "import glob\n",
    "import seaborn as sns\n",
    "import pandas as pd\n",
    "import matplotlib.pyplot as plt\n",
    "#%matplotlib inline\n",
    "import numpy as np\n",
    "\n",
    "path = '/Users/ethan/Documents/GitHub/Learn-PsychoPy/Labs/Pseudohomophones/experiment/data'\n",
    "all_files = glob.glob(path + \"/*trials.csv\")\n",
    "\n",
    "# assemble data from all participants into one dataframe\n",
    "\n",
    "temp = [] # make a list to hold all the individual dataframes\n",
    "\n",
    "for filename in all_files:\n",
    "    print(\"preparing data for...\", filename)\n",
    "    df = pd.read_csv(filename, index_col=None, header=0) # read in each dataframe\n",
    "    df = df[df['resp.rt_raw'].notna()] # remove trials with no participant response\n",
    "    temp.append(df) # add each dataframe to the list of dataframes\n",
    "\n",
    "df = pd.concat(temp, axis=0, ignore_index=True) # concatenate all participants' data"
   ]
  },
  {
   "cell_type": "code",
   "execution_count": 8,
   "metadata": {},
   "outputs": [
    {
     "data": {
      "text/plain": [
       "['nonwordType',\n",
       " 'upperWord',\n",
       " 'lowerWord',\n",
       " 'corrAns',\n",
       " 'n',\n",
       " 'fixation.started_mean',\n",
       " 'fixation.started_raw',\n",
       " 'fixation.started_std',\n",
       " 'fixation.stopped_raw',\n",
       " 'lowerStim.started_mean',\n",
       " 'lowerStim.started_raw',\n",
       " 'lowerStim.started_std',\n",
       " 'lowerStim.stopped_raw',\n",
       " 'resp.corr_mean',\n",
       " 'resp.corr_raw',\n",
       " 'resp.corr_std',\n",
       " 'resp.keys_raw',\n",
       " 'resp.rt_mean',\n",
       " 'resp.rt_raw',\n",
       " 'resp.rt_std',\n",
       " 'resp.started_mean',\n",
       " 'resp.started_raw',\n",
       " 'resp.started_std',\n",
       " 'resp.stopped_raw',\n",
       " 'upperStim.started_mean',\n",
       " 'upperStim.started_raw',\n",
       " 'upperStim.started_std',\n",
       " 'upperStim.stopped_raw',\n",
       " 'order']"
      ]
     },
     "execution_count": 8,
     "metadata": {},
     "output_type": "execute_result"
    }
   ],
   "source": [
    "list(df)"
   ]
  },
  {
   "cell_type": "code",
   "execution_count": null,
   "metadata": {},
   "outputs": [],
   "source": []
  }
 ],
 "metadata": {
  "kernelspec": {
   "display_name": "Python 3",
   "language": "python",
   "name": "python3"
  },
  "language_info": {
   "codemirror_mode": {
    "name": "ipython",
    "version": 3
   },
   "file_extension": ".py",
   "mimetype": "text/x-python",
   "name": "python",
   "nbconvert_exporter": "python",
   "pygments_lexer": "ipython3",
   "version": "3.7.3"
  }
 },
 "nbformat": 4,
 "nbformat_minor": 2
}
